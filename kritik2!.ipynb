{
 "cells": [
  {
   "cell_type": "code",
   "id": "initial_id",
   "metadata": {
    "collapsed": true,
    "ExecuteTime": {
     "end_time": "2025-04-01T04:37:11.540744Z",
     "start_time": "2025-04-01T04:37:11.535852Z"
    }
   },
   "source": [
    "def arctan_approx(x):\n",
    "    if x < 0 or x >1:\n",
    "        return \"Error!\"\n",
    "    approx = 0\n",
    "    error = float(\"inf\")\n",
    "    n = 0\n",
    "\n",
    "    while error > 0.0001:\n",
    "        currentterm = ((-1)**n)* (x**(2*n+1))/(2*n+1)\n",
    "        approx += currentterm\n",
    "\n",
    "        error = (x**(2*n+3))/(2*n+3)\n",
    "        n+=1\n",
    "\n",
    "    return approx, n, error\n",
    "test = (-1,0,0.25,0.5,0.75,1)\n",
    "for x in test:\n",
    "    result = arctan_approx(x)\n",
    "    print(f\"arctan_approx(x) = {result}\")"
   ],
   "outputs": [
    {
     "name": "stdout",
     "output_type": "stream",
     "text": [
      "arctan_approx(x) = Error!\n",
      "arctan_approx(x) = (0.0, 1, 0.0)\n",
      "arctan_approx(x) = (0.24498697916666665, 3, 8.719308035714285e-06)\n",
      "arctan_approx(x) = (0.46368427579365074, 5, 4.438920454545455e-05)\n",
      "arctan_approx(x) = (0.6435394700943785, 11, 5.816761029294689e-05)\n",
      "arctan_approx(x) = (0.7853481633979478, 5000, 9.999000099990002e-05)\n"
     ]
    }
   ],
   "execution_count": 1
  }
 ],
 "metadata": {
  "kernelspec": {
   "display_name": "Python 3",
   "language": "python",
   "name": "python3"
  },
  "language_info": {
   "codemirror_mode": {
    "name": "ipython",
    "version": 2
   },
   "file_extension": ".py",
   "mimetype": "text/x-python",
   "name": "python",
   "nbconvert_exporter": "python",
   "pygments_lexer": "ipython2",
   "version": "2.7.6"
  }
 },
 "nbformat": 4,
 "nbformat_minor": 5
}
