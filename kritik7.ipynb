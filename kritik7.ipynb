{
 "cells": [
  {
   "cell_type": "code",
   "execution_count": 11,
   "id": "730c76a3-0aba-4b66-a8c4-3aa7aa252c8d",
   "metadata": {},
   "outputs": [
    {
     "name": "stdout",
     "output_type": "stream",
     "text": [
      "t* for sample size 10 with 95% certainty: 2.2621965408325195\n"
     ]
    }
   ],
   "source": [
    "import numpy as np \n",
    "from scipy.special import gamma \n",
    "\n",
    "\n",
    "def mean(x):\n",
    "    n = len(x) \n",
    "    if n == 0:\n",
    "        return 0,0\n",
    "    mean_value = sum(x) / n \n",
    "    variance = sum([(a-mean_value) ** 2 for a in x]) / (n-1) \n",
    "    std_dev = variance ** 0.5 \n",
    "    return mean_value, std_dev \n",
    "\n",
    "def t_distribution_pdf(x, nu):\n",
    "    coeff = gamma((nu + 1) / 2) / (np.sqrt(nu * np.pi) * gamma(nu / 2))\n",
    "    density = coeff * (1 + x**2 / nu) ** (-0.5 * (nu + 1))\n",
    "    return density \n",
    "\n",
    "def cumulative_t_distribution(x, nu, num_points=10000):\n",
    "   #Numerically approximates the cumulative distribution function (CDF) using the trapezoidal rule.\n",
    "    x_vals = np.linspace(-10, x, num_points)  # Generate x values from -10 to x\n",
    "    y_vals = t_distribution_pdf(x_vals, nu)  # Compute the PDF at each x value\n",
    "    dx = x_vals[1] - x_vals[0]  # Step size\n",
    "    cdf = np.trapz(y_vals, x_vals)  # Approximate the integral using the trapezoidal rule\n",
    "    return cdf\n",
    "\n",
    "def find_t_star(prob, nu, tol=1e-5):\n",
    "    \"\"\"Finds the critical t* value for the given probability using binary search.\"\"\"\n",
    "    target_cdf = (1 + prob) / 2  # Since it's a two-tailed test\n",
    "    low, high = 0, 10  # Initial search bounds\n",
    "    while high - low > tol:\n",
    "        mid = (low + high) / 2\n",
    "        if cumulative_t_distribution(mid, nu) < target_cdf:\n",
    "            low = mid\n",
    "        else:\n",
    "            high = mid\n",
    "    return (low + high) / 2\n",
    "\n",
    "sample_size = 10  # Adjust as needed\n",
    "degrees_of_freedom = sample_size - 1\n",
    "t_star = find_t_star(0.95, degrees_of_freedom)\n",
    "print(f\"t* for sample size {sample_size} with 95% certainty: {t_star}\")\n",
    "    \n",
    "\n",
    "\n",
    "\n",
    "    \n"
   ]
  },
  {
   "cell_type": "code",
   "execution_count": null,
   "id": "fdb0f240-d360-4064-b778-83462e3e2a59",
   "metadata": {},
   "outputs": [],
   "source": []
  }
 ],
 "metadata": {
  "kernelspec": {
   "display_name": "Python 3 (ipykernel)",
   "language": "python",
   "name": "python3"
  },
  "language_info": {
   "codemirror_mode": {
    "name": "ipython",
    "version": 3
   },
   "file_extension": ".py",
   "mimetype": "text/x-python",
   "name": "python",
   "nbconvert_exporter": "python",
   "pygments_lexer": "ipython3",
   "version": "3.12.8"
  }
 },
 "nbformat": 4,
 "nbformat_minor": 5
}
