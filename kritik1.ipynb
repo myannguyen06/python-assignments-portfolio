{
 "cells": [
  {
   "cell_type": "code",
   "execution_count": null,
   "id": "initial_id",
   "metadata": {
    "collapsed": true
   },
   "outputs": [],
   "source": [
    ""
   ]
  },
  {
   "metadata": {},
   "cell_type": "code",
   "outputs": [],
   "execution_count": null,
   "source": [
    "from operator import truediv\n",
    "\n",
    "from six import print_\n",
    "\n",
    "names = [\"sarah\",\"riley\",\"diana\",\"myan\"]\n",
    "for name in names:\n",
    "    if name == \"myan\":\n",
    "        print(\"We've found myan!\")\n",
    "    else:\n",
    "        print(\"no, this is \"+ name + \",not myan\")\n",
    "\n",
    "print(\"wow\" in names)\n",
    "\n",
    "\n",
    "smth = [1,2,3,4,5,6,7,8,9,10,11,12,13]\n",
    "print_(smth[3])\n",
    "print(smth[4:6])\n",
    "print(type(smth[4:6]))\n",
    "print(smth[2:12:4])\n",
    "\n",
    "print(list(range(3,40,5)))\n",
    "\n",
    "names.append('cooler people')\n",
    "print(names)\n",
    "\n",
    "def f(my_function):\n",
    "    value=(my_function**2)+5\n",
    "    return value\n",
    "print(f(1))\n",
    "\n",
    "def findxmax(a,b,c,d):\n",
    "    if a>=b and a>=c and a>=d:\n",
    "        return a\n",
    "    if b>=a and b>=c and b>=d:\n",
    "        return b\n",
    "    if c>=a and c>=b and c>=d:\n",
    "        return c\n",
    "    if d>=a and d>=b and d>=c:\n",
    "        return d\n",
    "print(findxmax(1,3,5,5))\n",
    "\n",
    "#given n, return true if it is within 10 of 100 or 200\n",
    "def near_hundred(n):\n",
    "    if abs(n-100)<=10 or abs(n-100)<=10:\n",
    "        return True\n",
    "    else:\n",
    "        return False\n",
    "\n",
    "print(near_hundred(95))\n",
    "\n",
    "\n",
    "\n",
    "\n",
    "\n",
    "\n"
   ],
   "id": "9ebe6f4d21a32f24"
  }
 ],
 "metadata": {
  "kernelspec": {
   "display_name": "Python 3",
   "language": "python",
   "name": "python3"
  },
  "language_info": {
   "codemirror_mode": {
    "name": "ipython",
    "version": 2
   },
   "file_extension": ".py",
   "mimetype": "text/x-python",
   "name": "python",
   "nbconvert_exporter": "python",
   "pygments_lexer": "ipython2",
   "version": "2.7.6"
  }
 },
 "nbformat": 4,
 "nbformat_minor": 5
}
